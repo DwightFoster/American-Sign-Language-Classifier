{
 "cells": [
  {
   "cell_type": "code",
   "execution_count": 1,
   "metadata": {},
   "outputs": [],
   "source": [
    "from PIL import Image\n",
    "import torch\n",
    "from torchvision import transforms, datasets,models\n",
    "import numpy as np\n",
    "import matplotlib.pyplot as plt\n",
    "import torch.nn as nn\n",
    "import os"
   ]
  },
  {
   "cell_type": "code",
   "execution_count": 2,
   "metadata": {},
   "outputs": [],
   "source": [
    "import cv2\n",
    "\n",
    "# Windows dependencies\n",
    "# - Python 2.7.6: http://www.python.org/download/\n",
    "# - OpenCV: http://opencv.org/\n",
    "# - Numpy -- get numpy from here because the official builds don't support x64:\n",
    "#   http://www.lfd.uci.edu/~gohlke/pythonlibs/#numpy\n",
    "\n",
    "# Mac Dependencies\n",
    "# - brew install python\n",
    "# - pip install numpy\n",
    "# - brew tap homebrew/science\n",
    "# - brew install opencv\n",
    "\n",
    "cap = cv2.VideoCapture(0)\n",
    "\n",
    "while(True):\n",
    "    ret, frame = cap.read()\n",
    "    rgb = cv2.cvtColor(frame, cv2.COLOR_BGR2BGRA)\n",
    "\n",
    "    cv2.imshow('frame', rgb)\n",
    "    if cv2.waitKey(1) & 0xFF == ord('q'):\n",
    "        out = cv2.imwrite('capture.jpg', frame)\n",
    "        break\n",
    "\n"
   ]
  },
  {
   "cell_type": "code",
   "execution_count": 3,
   "metadata": {},
   "outputs": [],
   "source": [
    "VGG16 = models.vgg16(pretrained=True)\n",
    "VGG16.classifier[6] = nn.Linear(4096,29)\n",
    "\n",
    "VGG16.load_state_dict(torch.load('model_transfer.pt', map_location=lambda storage, loc: storage))"
   ]
  },
  {
   "cell_type": "code",
   "execution_count": 4,
   "metadata": {},
   "outputs": [
    {
     "data": {
      "text/plain": [
       "'P'"
      ]
     },
     "execution_count": 4,
     "metadata": {},
     "output_type": "execute_result"
    }
   ],
   "source": [
    "data = datasets.ImageFolder('asl-alphabet-test/',transform=transforms.Compose([transforms.RandomResizedCrop(224),transforms.ToTensor()]))\n",
    "class_names = [item[:7].replace(\"_\", \" \") for item in data.classes]\n",
    "def predict_sign(path):\n",
    "    image = Image.open(path)\n",
    "    in_transform = transforms.Compose([\n",
    "                        transforms.CenterCrop(224),\n",
    "                        transforms.ToTensor(),\n",
    "                        transforms.Normalize(mean=[0.485, 0.456, 0.406],\n",
    "                                             std=[0.229, 0.224, 0.225])])\n",
    "    image = in_transform(image)[:3,:,:].unsqueeze(0)\n",
    "    image = image\n",
    "        \n",
    "    output = VGG16(image)\n",
    "    \n",
    "    pred = torch.argmax(output, dim = 1)\n",
    "   \n",
    "    return class_names[pred]\n",
    "\n",
    "predict_sign('capture.jpg')\n",
    "    "
   ]
  },
  {
   "cell_type": "code",
   "execution_count": null,
   "metadata": {},
   "outputs": [],
   "source": []
  },
  {
   "cell_type": "code",
   "execution_count": null,
   "metadata": {},
   "outputs": [],
   "source": []
  }
 ],
 "metadata": {
  "kernelspec": {
   "display_name": "Python 3",
   "language": "python",
   "name": "python3"
  },
  "language_info": {
   "codemirror_mode": {
    "name": "ipython",
    "version": 3
   },
   "file_extension": ".py",
   "mimetype": "text/x-python",
   "name": "python",
   "nbconvert_exporter": "python",
   "pygments_lexer": "ipython3",
   "version": "3.6.8"
  }
 },
 "nbformat": 4,
 "nbformat_minor": 2
}
